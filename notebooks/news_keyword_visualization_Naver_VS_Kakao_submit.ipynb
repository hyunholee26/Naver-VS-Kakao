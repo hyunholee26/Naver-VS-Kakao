{
  "nbformat": 4,
  "nbformat_minor": 0,
  "metadata": {
    "colab": {
      "name": "news keyword visualization - Naver VS Kakao - submit.ipynb",
      "provenance": [],
      "collapsed_sections": []
    },
    "kernelspec": {
      "name": "python3",
      "display_name": "Python 3"
    },
    "language_info": {
      "name": "python"
    }
  },
  "cells": [
    {
      "cell_type": "markdown",
      "source": [
        "# 구직자를 위한 기업 트랜드 시각화 경진대회 : Naver VS Kakao 키워드 분석\n",
        "![](https://hyunholee26.github.io/Naver-VS-Kakao/header.png)\n",
        "\n",
        "안녕하세요, \n",
        "\n",
        "구직자를 위한 기업 트랜드 분석을 위해 최근 3개월간 뉴스 데이터를 기반으로 네이버 VS 카카오라는 주제로 분석 및 시각화를 진행해보았습니다. \n",
        "\n",
        "본 분석과제는 **국내 IT업계 라이벌 기업 간의 이슈 키워드를 분석하고, 키워드의 유사점과 차이점을 빠르게 파악하는 것**을 핵심목표로 설정하였습니다. 이러한 분석 및 시각화 방법은 **구직자들이 지원을 희망하는 기업의 최근 동향에 대한 인사이트를 빠르게 얻을 수 있는 방법**이 될 수 있다고 생각합니다."
      ],
      "metadata": {
        "id": "eXLcrPPV2rqf"
      }
    },
    {
      "cell_type": "markdown",
      "source": [
        "## 1. Scatter Text을 이용한 Naver VS Kakao 핵심 키워드 분석\n",
        "(참고사이트: https://github.com/JasonKessler/scattertext)\n",
        "\n",
        "**Scatter Text는 두 개의 그룹간 사용된 키워드를 시각화 하는 방법입니다.**\n",
        "\n",
        "**아래의 그림은 X축이 Kakao, Y축이 Naver입니다.** \n",
        "그림은 아래와 같이 해석합니다.\n",
        "1. X축에 가까울수록 Kakao 관련 기사에서 많이 사용된 단어이다.\n",
        "2. Y축에 가까울수록 Naver 관련 기사에서 많이 사용된 단어이다.\n",
        "3. 45도 각도로 노란색으로 형성된 곳의 단어들은 Kakao 및 Naver 함께 사용된 단어이다.\n",
        "\n"
      ],
      "metadata": {
        "id": "QR-xxPrd6jMH"
      }
    },
    {
      "cell_type": "markdown",
      "source": [
        "![](https://hyunholee26.github.io/Naver-VS-Kakao/screen_shot_500.png)"
      ],
      "metadata": {
        "id": "RQvCJG8z7I7z"
      }
    },
    {
      "cell_type": "markdown",
      "source": [
        "위의 방법으로 아래의 그림을 해석해보면, \n",
        "\n",
        "**1. Kakao 관련 기사에서 최근 많이 사용된 단어는 택시, 카카오모빌리티, 이모티콘, 매각**이며,\n",
        "\n",
        "**2. Naver 관련 기사에서 최근 많이 사용된 단어는 공연, 축제, 제페토, 티빙, 네이버클라우드**임을 알 수 있습니다.\n",
        "\n",
        "**3. 또한, 두 회사 모두 공통적으로 서비스, 플랫폼, 코로나, 온라인, 콘텐츠와 같은 단어가 공통적으로 많이 사용됨**을 알 수 있습니다.\n",
        "\n",
        "다음 링크를 클릭하면, 이미지가 아닌 interaction이 가능한 분석결과를 확인할 수 있습니다.\n",
        "\n",
        "[인터랙티브한 시각화 결과보기](https://hyunholee26.github.io/Naver-VS-Kakao/scatter_text_500.html)  <- 클릭"
      ],
      "metadata": {
        "id": "w3w6e3zX7Yje"
      }
    },
    {
      "cell_type": "markdown",
      "source": [
        "## 2. 기업별 연관단어 분석\n",
        "네이버 VS 카카오와 관련하여 scatter text를 바탕으로 도출된 단어들의 연관단어를 살펴봄으로써 **단어가 사용된 맥락을 보다 다각적으로 파악**할 수 있습니다."
      ],
      "metadata": {
        "id": "QOmhXQET_x6m"
      }
    },
    {
      "cell_type": "markdown",
      "source": [
        "## 2.1 카카오(Kakao)\n",
        "카카오는 전반적으로 **택시를 중심으로 하는 모빌리티 및 이모티콘 사업이 주요 키워드로 도출되어 있으며, 또한 최근 경영진의 주식 매각이 이슈가 되었음**을 파악할 수 있었다. 이렇게 기업의 동향을 빠르게 파악하는 것은 기업 지원 및 면접 준비에 도움이 될 것입니다.\n",
        "\n",
        "### 2.1.1 택시\n",
        "![](https://hyunholee26.github.io/Naver-VS-Kakao/kakao_taxi.png)\n",
        "\n",
        "### 2.1.2 카카오모빌리티\n",
        "![](https://hyunholee26.github.io/Naver-VS-Kakao/kakao_kakaomobility.png)\n",
        "\n",
        "### 2.1.3 이모티콘\n",
        "![](https://hyunholee26.github.io/Naver-VS-Kakao/kakao_emoticon.png)\n",
        "\n",
        "### 2.1.4 매각\n",
        "![](https://hyunholee26.github.io/Naver-VS-Kakao/kakao_sell.png)"
      ],
      "metadata": {
        "id": "IWguspMY_5IZ"
      }
    },
    {
      "cell_type": "markdown",
      "source": [
        "## 2.2 네이버(Naver)\n",
        "네이버는 전반적으로 **코로나로 인한 비대면 온라인 공연, 축제 및 메타버스 서비스인 제페토, 티빙을 통한 콘텐츠 사업 및 네이버클라우드 사업이 이슈가 되었음**을 파악할 수 있었다.\n",
        "\n",
        "### 2.2.1 공연\n",
        "![](https://hyunholee26.github.io/Naver-VS-Kakao/naver_perf.png)\n",
        "\n",
        "### 2.2.2 축제\n",
        "![](https://hyunholee26.github.io/Naver-VS-Kakao/naver_fest.png)\n",
        "\n",
        "### 2.2.3 제페토\n",
        "![](https://hyunholee26.github.io/Naver-VS-Kakao/naver_zepeto.png)\n",
        "\n",
        "### 2.2.4 티빙\n",
        "![](https://hyunholee26.github.io/Naver-VS-Kakao/naver_tving.png)\n",
        "\n",
        "### 2.2.5 네이버클라우드\n",
        "![](https://hyunholee26.github.io/Naver-VS-Kakao/naver_cloud.png)"
      ],
      "metadata": {
        "id": "jIvOrbZQ_9kv"
      }
    },
    {
      "cell_type": "markdown",
      "source": [
        "## 2.3 카카오 및 네이버 공통 키워드 = 플랫폼\n",
        "두 기업 모두 공통적으로 '플랫폼'이라는 단어가 많이 사용됨을 통해 **두기업의 공통적인 방향성이 플랫폼임을 유추**할 수 있습니다. 각 기업별 플랫폼에 대한 연관단어를 살펴봄으로써 두기업의 지향점을 유추할 수 있었습니다.\n",
        "\n",
        "### 2.3.1 플랫폼 in Kakao\n",
        "\n",
        "금융, 콘텐츠에 대한 언급을 통해 카카오톡을 중심으로 **금융, 콘텐츠 등 서비스를 다각화하는 방향**에 대한 움직임을 지켜볼 필요가 있다고 판단됩니다.\n",
        "![](https://hyunholee26.github.io/Naver-VS-Kakao/kakao_platform.png)\n",
        "\n",
        "### 2.3.2 플랫폼 in Naver\n",
        "\n",
        "최근 메타버스에 대한 언급을 통해 **향후 메타버스 서비스에 대한 움직임을 지켜볼 필요**가 있다고 판단됩니다.\n",
        "![](https://hyunholee26.github.io/Naver-VS-Kakao/naver_platform.png)\n"
      ],
      "metadata": {
        "id": "iS3IWJbJACtU"
      }
    },
    {
      "cell_type": "markdown",
      "source": [
        "## 3. 맺음말\n",
        "**Scatter Text와 연관단어 분석을 통해 라이벌 기업의 최신 동향을 빠르고 직관적으로 분석하고, 시각화 하는 기법에 대해 공유**해보았습니다. 이러한 방법은 '삼성전자 VS LG전자', '현대자동차 VS 기아자동차'와 같이 라이벌 기업의 최근 동향에 대한 유사점과 차이점을 빠르게 분석하는데 도움이 될 것이라고 생각합니다. 관련된 코드가 궁금하신 분은 아래의 링크에서 확인하실 수 있습니다. 감사합니다.\n",
        "\n",
        "[분석 및 시각화 코드 보기](https://github.com/hyunholee26/Naver-VS-Kakao/blob/main/notebooks/news_keyword_visualization_Naver_VS_Kakao.ipynb)"
      ],
      "metadata": {
        "id": "IWVBGc3mHUrP"
      }
    }
  ]
}